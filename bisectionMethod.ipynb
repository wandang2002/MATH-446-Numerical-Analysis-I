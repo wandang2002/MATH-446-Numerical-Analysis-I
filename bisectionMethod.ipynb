{
 "cells": [
  {
   "cell_type": "markdown",
   "id": "0abd027f-321d-4709-8626-73079f658b2f",
   "metadata": {},
   "source": [
    "## Bisection Method"
   ]
  },
  {
   "cell_type": "markdown",
   "id": "6b8d54df-47b1-42ff-be06-261971fc3399",
   "metadata": {},
   "source": [
    "Wan Dang - 02/10/2025"
   ]
  },
  {
   "cell_type": "markdown",
   "id": "d5f23868-2219-4213-b414-d709683346d6",
   "metadata": {},
   "source": [
    "### Imported packages"
   ]
  },
  {
   "cell_type": "code",
   "execution_count": 14,
   "id": "804f5705-b8eb-45e7-ba6a-d018d01df436",
   "metadata": {},
   "outputs": [],
   "source": [
    "import numpy as np \n",
    "import math"
   ]
  },
  {
   "cell_type": "markdown",
   "id": "f7bbd327-7957-4645-849f-58acef81a488",
   "metadata": {},
   "source": [
    "(a)  Write a function [r fr] = bisection(f,a,b,k,TOL) which returns the root r of a function f and the value fr of the function at the approximated root, in the interval [a,b] using the bisection method. Your program should use eps as an error bound and should apply at most k iterations of the method. You can use the code in your book and modify it according to the question."
   ]
  },
  {
   "cell_type": "code",
   "execution_count": 15,
   "id": "4bf79d4d-e60d-4d5e-8731-ae56de17623e",
   "metadata": {},
   "outputs": [],
   "source": [
    "# Return machine epsilon for double-precision floating-point numbers\n",
    "def epsilonMachine():\n",
    "    return np.finfo(np.float64).eps"
   ]
  },
  {
   "cell_type": "code",
   "execution_count": 16,
   "id": "fab4786f-bc17-4b87-9123-65414b7c7bfa",
   "metadata": {},
   "outputs": [],
   "source": [
    "# Bisection Method function\n",
    "def bisectionMethod(f, a, b, max_iter, tol):\n",
    "    # Check if f(a) and f(b) values are of an opposite sign\n",
    "    if f(a) * f(b) >= 0:\n",
    "        raise ValueError('Function must have opposite signs at a and b.')\n",
    "    # Set counter\n",
    "    iter_count = 0\n",
    "    # Start the while-loop\n",
    "    while (b-a)/2 > max(tol, epsilonMachine()) and iter_count < max_iter:\n",
    "        # Calculate the midpoint\n",
    "        r = (a + b)/2\n",
    "        fr = f(r) \n",
    "        # Check if root is found\n",
    "        if abs(fr)<tol:\n",
    "            return r, fr, iter_count # Return the root, f(r) and number of iteration\n",
    "        # Determine new interval\n",
    "        if f(a) * fr < 0:\n",
    "            b = r\n",
    "        else:\n",
    "            a = r\n",
    "        iter_count += 1\n",
    "    return r, fr, iter_count # Return the root, f(r) and number of iteration"
   ]
  },
  {
   "cell_type": "markdown",
   "id": "d3cc14e2-3f05-42c8-a70c-503beb532485",
   "metadata": {},
   "source": [
    "(b) Test your function [r] = bisection(f,a,b,k,eps) for 5 different test cases."
   ]
  },
  {
   "cell_type": "code",
   "execution_count": 22,
   "id": "0aef733b-8d2a-4e6f-9f2b-2e17430f7fbd",
   "metadata": {},
   "outputs": [
    {
     "name": "stdout",
     "output_type": "stream",
     "text": [
      "Test case 1: f = x^2 - 4, root = 2\n",
      "Root: 2.0, f(root): 0.0, Number of iterations: 52\n"
     ]
    }
   ],
   "source": [
    "# Test case 1: f = x^2 - 4, root = 2\n",
    "f = lambda x: x**2 - 4\n",
    "root, f_root, iter_count= bisectionMethod(f, 1, 4, 100, epsilonMachine())\n",
    "print('Test case 1: f = x^2 - 4, root = 2')\n",
    "print(f'Root: {root}, f(root): {f_root}, Number of iterations: {iter_count}') "
   ]
  },
  {
   "cell_type": "code",
   "execution_count": 18,
   "id": "daccbd64-8d50-4574-9ef0-fec456fd2ada",
   "metadata": {},
   "outputs": [
    {
     "name": "stdout",
     "output_type": "stream",
     "text": [
      "Test case 2: f = cos(x) - x, root = 0.73908513322\n",
      "Root: 0.7390851332151605, f(root): 3.3306690738754696e-16, Number of iterations: 51\n"
     ]
    }
   ],
   "source": [
    "# Test case 2: f = cos(x) - x, root = 0.73908513322\n",
    "f = lambda x: math.cos(x) - x\n",
    "root, f_root, iter_count= bisectionMethod(f, 0, 1, 100, epsilonMachine())\n",
    "print('Test case 2: f = cos(x) - x, root = 0.73908513322')\n",
    "print(f'Root: {root}, f(root): {f_root}, Number of iterations: {iter_count}') "
   ]
  },
  {
   "cell_type": "code",
   "execution_count": 19,
   "id": "60fd548b-50db-414b-8927-7c268a4c8004",
   "metadata": {},
   "outputs": [
    {
     "name": "stdout",
     "output_type": "stream",
     "text": [
      "Test case 3: f = x^3 - 2x - 5, root = 2.09455148154\n",
      "Root: 2.0945514815423265, f(root): -8.881784197001252e-16, Number of iterations: 51\n"
     ]
    }
   ],
   "source": [
    "# Test case 3: f = x^3 - 2x - 5, root = 2.09455148154\n",
    "f = lambda x: x**3 - 2*x - 5\n",
    "root, f_root, iter_count = bisectionMethod(f, 2, 3, 100, epsilonMachine())\n",
    "print('Test case 3: f = x^3 - 2x - 5, root = 2.09455148154')\n",
    "print(f'Root: {root}, f(root): {f_root}, Number of iterations: {iter_count}') "
   ]
  },
  {
   "cell_type": "code",
   "execution_count": 20,
   "id": "802729ef-fb42-4d1e-a4c2-ad0e9a67734d",
   "metadata": {},
   "outputs": [
    {
     "name": "stdout",
     "output_type": "stream",
     "text": [
      "Test case 4: f = e^x - 3x, root = 0.61906128674\n",
      "Root: 0.6190612867359451, f(root): 0.0, Number of iterations: 50\n"
     ]
    }
   ],
   "source": [
    "# Test case 4: f = e^x - 3x, root = 0.61906128674\n",
    "f = lambda x: math.exp(x) - 3*x\n",
    "root, f_root, iter_count = bisectionMethod(f, 0, 1, 100, epsilonMachine())\n",
    "print('Test case 4: f = e^x - 3x, root = 0.61906128674')\n",
    "print(f'Root: {root}, f(root): {f_root}, Number of iterations: {iter_count}') "
   ]
  },
  {
   "cell_type": "code",
   "execution_count": 21,
   "id": "6d577674-3a49-4ee8-bbf9-70f2bae6cc19",
   "metadata": {},
   "outputs": [
    {
     "name": "stdout",
     "output_type": "stream",
     "text": [
      "Test case 5: f = x^5 - x^2 - 10\n",
      "Root: 1.6643245425879631, f(root): 1.2434497875801753e-14, Number of iterations: 52\n"
     ]
    }
   ],
   "source": [
    "# Test case 5: f = x^5 - x^2 - 10\n",
    "f = lambda x: x**5 - x**2 - 10\n",
    "root, f_root, iter_count = bisectionMethod(f, 0, 2, 100, epsilonMachine())\n",
    "print('Test case 5: f = x^5 - x^2 - 10')\n",
    "print(f'Root: {root}, f(root): {f_root}, Number of iterations: {iter_count}') "
   ]
  }
 ],
 "metadata": {
  "kernelspec": {
   "display_name": "Python 3 (ipykernel)",
   "language": "python",
   "name": "python3"
  },
  "language_info": {
   "codemirror_mode": {
    "name": "ipython",
    "version": 3
   },
   "file_extension": ".py",
   "mimetype": "text/x-python",
   "name": "python",
   "nbconvert_exporter": "python",
   "pygments_lexer": "ipython3",
   "version": "3.13.2"
  }
 },
 "nbformat": 4,
 "nbformat_minor": 5
}
